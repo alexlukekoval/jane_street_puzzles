{
 "cells": [
  {
   "cell_type": "code",
   "execution_count": 1,
   "metadata": {},
   "outputs": [],
   "source": [
    "import numpy as np, pandas as pd \n",
    "import matplotlib.pyplot as plt\n",
    "import torch\n",
    "import time \n",
    "import random"
   ]
  },
  {
   "cell_type": "code",
   "execution_count": 2,
   "metadata": {},
   "outputs": [],
   "source": [
    "initial_grid = np.array([[None, 4, None, None, None, None, None],\n",
    " [None, None, 6, 3, None, None, 6],\n",
    " [None, None, None, None, None, 5, 5],\n",
    " [None, None, None, 4, None, None, None],\n",
    " [4, 7, None, None, None, None, None],\n",
    " [2, None, None, 7, 4, None, None],\n",
    " [None, None, None, None, None, 1, None]])"
   ]
  },
  {
   "cell_type": "code",
   "execution_count": 3,
   "metadata": {},
   "outputs": [],
   "source": [
    "solution_grid = np.array([[7, 4, 3, None, 6, None, None],\n",
    " [None, None, 6, 3, 5, None, 6],\n",
    " [None, None, 5, None, 5, 5, 5],\n",
    " [None, 3, 6, 4, None, None, 7],\n",
    " [4, 7, None, None, None, 7, 2],\n",
    " [2, None, None, 7, 4, 7, None],\n",
    " [7, 6, None, 6, None, 1, None]])"
   ]
  },
  {
   "cell_type": "code",
   "execution_count": 4,
   "metadata": {},
   "outputs": [],
   "source": [
    "almost_solution_grid = np.array([[7, 4, 3, None, 6, None, None],\n",
    " [None, None, 6, 3, 5, None, 6],\n",
    " [None, None, 5, None, 5, 5, 5],\n",
    " [None, 3, 6, 4, None, None, None],\n",
    " [4, 7, None, None, None, None, None],\n",
    " [2, None, None, 7, 4, None, None],\n",
    " [7, 6, None, 6, None, 1, None]])"
   ]
  },
  {
   "cell_type": "code",
   "execution_count": 5,
   "metadata": {},
   "outputs": [],
   "source": [
    "bad_solution_grid = np.array([[7, 4, 3, 7, 6, None, None],\n",
    " [None, None, 6, 3, 5, None, 6],\n",
    " [None, None, 5, None, 5, 5, 5],\n",
    " [None, 3, 6, 4, None, None, 7],\n",
    " [4, 7, None, None, None, 7, 2],\n",
    " [2, None, None, 7, 4, 7, None],\n",
    " [7, 6, None, 6, None, 1, None]])"
   ]
  },
  {
   "cell_type": "code",
   "execution_count": 6,
   "metadata": {},
   "outputs": [],
   "source": [
    "unconnected_solution = np.array([[7, 4, 3, None, 6, None, None],\n",
    " [None, None, 6, 3, 5, None, 6],\n",
    " [None, None, 5, None, 5, 5, 5],\n",
    " [None, 3, 6, 4, None, 7, None],\n",
    " [4, 7, None, None, None, 7, 2],\n",
    " [2, None, None, 7, 4, None, 7],\n",
    " [7, 6, None, 6, None, 1, None]])"
   ]
  },
  {
   "cell_type": "code",
   "execution_count": 7,
   "metadata": {},
   "outputs": [],
   "source": [
    "# fill Nones with 0\n",
    "def fill_nones(grid):\n",
    "    return np.where(grid == None, 0, grid)"
   ]
  },
  {
   "cell_type": "code",
   "execution_count": 8,
   "metadata": {},
   "outputs": [],
   "source": [
    "# make remaining_numbers dict\n",
    "def make_remaining_numbers(grid):\n",
    "    remaining_numbers = {7: 7, 6: 6, 5: 5, 4: 4, 3: 3, 2: 2, 1: 1}\n",
    "    for i in range(7):\n",
    "        for j in range(7):\n",
    "            if grid[i, j] != None:\n",
    "                remaining_numbers[grid[i, j]] -= 1\n",
    "    # value of 0 should be sum of all nones\n",
    "    remaining_numbers[0] = 49 - np.count_nonzero(grid)\n",
    "    return remaining_numbers"
   ]
  },
  {
   "cell_type": "code",
   "execution_count": 9,
   "metadata": {},
   "outputs": [],
   "source": [
    "# function to check subsquares\n",
    "def check_sub_squares(grid):\n",
    "    # every 2-by-2 subsquare in the completed grid must contain at least one empty cell.\n",
    "    # fill None with 0\n",
    "    grid = np.where(grid == None, 0, grid).copy()\n",
    "    for i in range(0, 7-2):\n",
    "        for j in range(0, 7-2):\n",
    "            sub_square = grid[i:i+2, j:j+2]\n",
    "            # need to check there are exactly 3 non zero cells\n",
    "            non_zero_count = np.count_nonzero(sub_square)\n",
    "            if non_zero_count == 4:\n",
    "                #print('found false sub square')\n",
    "                #print(sub_square)\n",
    "                return False\n",
    "    return True"
   ]
  },
  {
   "cell_type": "code",
   "execution_count": 10,
   "metadata": {},
   "outputs": [],
   "source": [
    "# function to check sum of rows and cols is 20\n",
    "def check_row_col(grid):\n",
    "    # replace None with 0, temporarily\n",
    "    grid = np.where(grid == None, 0, grid).copy()\n",
    "    # check rows\n",
    "    for row in grid:\n",
    "        if np.sum(row) != 20:\n",
    "            return False\n",
    "    # check cols\n",
    "    for col in grid.T:\n",
    "        if np.sum(col) != 20:\n",
    "            return False\n",
    "    return True"
   ]
  },
  {
   "cell_type": "code",
   "execution_count": 11,
   "metadata": {},
   "outputs": [],
   "source": [
    "# checking the solution is connected\n",
    "def to_ones(grid):\n",
    "    output = np.zeros((7, 7))\n",
    "    for i in range(7):\n",
    "        for j in range(7):\n",
    "            if grid[i, j] != None and grid[i, j] != 0:\n",
    "                output[i, j] = 1\n",
    "    return output\n",
    "\n",
    "from collections import deque\n",
    "\n",
    "# breadth first search\n",
    "def bfs(grid, i, j):\n",
    "    queue = deque([(i, j)])\n",
    "    while queue:\n",
    "        i, j = queue.popleft()\n",
    "        if grid[i][j] == 1:\n",
    "            grid[i][j] = -1\n",
    "            if i > 0:\n",
    "                queue.append((i - 1, j))\n",
    "            if i < len(grid) - 1:\n",
    "                queue.append((i + 1, j))\n",
    "            if j > 0:\n",
    "                queue.append((i, j - 1))\n",
    "            if j < len(grid[0]) - 1:\n",
    "                queue.append((i, j + 1))\n",
    "\n",
    "def count_connected_components(grid):\n",
    "    count = 0\n",
    "    for i in range(len(grid)):\n",
    "        for j in range(len(grid[0])):\n",
    "            if grid[i][j] == 1:\n",
    "                count += 1\n",
    "                bfs(grid, i, j)\n",
    "    return count\n",
    "\n",
    "def is_connected(grid):\n",
    "    return count_connected_components(grid) == 1"
   ]
  },
  {
   "cell_type": "code",
   "execution_count": 12,
   "metadata": {},
   "outputs": [
    {
     "name": "stdout",
     "output_type": "stream",
     "text": [
      "{7: 3, 6: 0, 5: 0, 4: 0, 3: 0, 2: 1, 1: 0, 0: 25}\n",
      "found solution\n",
      "[[7 4 3 0 6 0 0]\n",
      " [0 0 6 3 5 0 6]\n",
      " [0 0 5 0 5 5 5]\n",
      " [0 3 6 4 0 7 0]\n",
      " [4 7 0 0 0 7 2]\n",
      " [2 0 0 7 4 0 7]\n",
      " [7 6 0 6 0 1 0]]\n",
      "connected: False\n",
      "---------------------------------\n",
      "found solution\n",
      "[[7 4 3 0 6 0 0]\n",
      " [0 0 6 3 5 0 6]\n",
      " [0 0 5 0 5 5 5]\n",
      " [0 3 6 4 0 0 7]\n",
      " [4 7 0 0 0 7 2]\n",
      " [2 0 0 7 4 7 0]\n",
      " [7 6 0 6 0 1 0]]\n",
      "connected: True\n",
      "---------------------------------\n"
     ]
    }
   ],
   "source": [
    "# lets make a recursive function to fill the grid, it will use remaining_numbers dict to keep track of numbers to fill\n",
    "time_last_print = time.time()\n",
    "def fill_grid(grid):\n",
    "    global remaining_numbers\n",
    "    global time_last_print\n",
    "    # check if grid is filled\n",
    "\n",
    "    if check_sub_squares(grid) and check_row_col(grid):\n",
    "        print('found solution')\n",
    "        print(fill_nones(grid))\n",
    "        print('connected:', is_connected(to_ones(grid)))\n",
    "        print('---------------------------------')\n",
    "        return\n",
    "\n",
    "    if np.all(grid != None):\n",
    "        # check subsquares\n",
    "        if not check_sub_squares(grid):\n",
    "            return\n",
    "        \n",
    "            \n",
    "\n",
    "    # check if row and col sums are 20\n",
    "    # replace None with 0, temporarily\n",
    "    grid_temp = np.where(grid == None, 0, grid).copy()\n",
    "    for i in range(7):\n",
    "        row_sum = np.sum(grid_temp[i, :])\n",
    "        if row_sum > 20:\n",
    "            return\n",
    "        col_sum = np.sum(grid_temp[:, i])\n",
    "        if col_sum > 20:\n",
    "            return\n",
    "    # print if more than 2 seconds elapsed\n",
    "    if time.time() - time_last_print > 2:\n",
    "        print('time elapsed')\n",
    "        print(grid)\n",
    "        print(time.time() - time_last_print)\n",
    "        time_last_print = time.time()\n",
    "    # find first empty cell\n",
    "    # print(grid)\n",
    "    for i in range(7):\n",
    "        for j in range(7):\n",
    "            if grid[i, j] == None:\n",
    "                # fill cell with each number in remaining_numbers\n",
    "                for num in remaining_numbers:\n",
    "                    if remaining_numbers[num] > 0:\n",
    "                        # make a copy of grid and remaining_numbers\n",
    "                        grid_copy = grid.copy()\n",
    "                        # fill cell with num\n",
    "                        grid_copy[i, j] = num\n",
    "                        # decrement remaining_numbers\n",
    "                        remaining_numbers[num] -= 1\n",
    "                        # call fill_grid recursively\n",
    "                        fill_grid(grid_copy)\n",
    "                        remaining_numbers[num] += 1\n",
    "                return \n",
    "remaining_numbers = make_remaining_numbers(almost_solution_grid)\n",
    "print(remaining_numbers)\n",
    "grid = almost_solution_grid.copy()\n",
    "fill_grid(grid)"
   ]
  },
  {
   "cell_type": "code",
   "execution_count": null,
   "metadata": {},
   "outputs": [],
   "source": []
  },
  {
   "cell_type": "code",
   "execution_count": null,
   "metadata": {},
   "outputs": [],
   "source": []
  }
 ],
 "metadata": {
  "kernelspec": {
   "display_name": "nn2023env",
   "language": "python",
   "name": "python3"
  },
  "language_info": {
   "codemirror_mode": {
    "name": "ipython",
    "version": 3
   },
   "file_extension": ".py",
   "mimetype": "text/x-python",
   "name": "python",
   "nbconvert_exporter": "python",
   "pygments_lexer": "ipython3",
   "version": "3.8.10"
  },
  "orig_nbformat": 4,
  "vscode": {
   "interpreter": {
    "hash": "1f8cdeff43379bd7bc09de017ad683d69beea64a0eeeafe2c7deb93e69434c10"
   }
  }
 },
 "nbformat": 4,
 "nbformat_minor": 2
}
